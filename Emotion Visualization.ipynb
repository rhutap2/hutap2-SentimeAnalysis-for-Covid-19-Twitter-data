{
 "cells": [
  {
   "cell_type": "code",
   "execution_count": null,
   "id": "d832479a",
   "metadata": {},
   "outputs": [],
   "source": [
    "import pandas as pd\n",
    "import numpy as np"
   ]
  },
  {
   "cell_type": "code",
   "execution_count": null,
   "id": "3d23ad8c",
   "metadata": {},
   "outputs": [],
   "source": [
    "import glob\n",
    "import os\n",
    "\n",
    "path = r\"*Enter the path pointing to the 'Sentiment_Output_Files' folder*\" # use your path\n",
    "\n",
    "all_files = sorted(glob.glob(os.path.join(path, \"*.csv\")))"
   ]
  },
  {
   "cell_type": "code",
   "execution_count": null,
   "id": "01e15847",
   "metadata": {},
   "outputs": [],
   "source": [
    "temp_list=[]\n",
    "for file in all_files:\n",
    "    print(file)\n",
    "    df=pd.read_csv(file)\n",
    "    dict_key = df[\"date\"][0]\n",
    "    df_sum = df.loc[:,['anger','disgust','fear','joy','neutral','sadness','surprise']].mean(axis = 0)\n",
    "    temp = df_sum.to_dict()\n",
    "    temp['date'] = dict_key\n",
    "    temp_list.append(temp)"
   ]
  },
  {
   "cell_type": "code",
   "execution_count": null,
   "id": "f56bbe6e",
   "metadata": {},
   "outputs": [],
   "source": [
    "final_df = pd.DataFrame.from_records(temp_list)\n",
    "final_df"
   ]
  },
  {
   "cell_type": "code",
   "execution_count": null,
   "id": "fd23cb6e",
   "metadata": {},
   "outputs": [],
   "source": [
    "final_df = final_df.set_index('date')"
   ]
  },
  {
   "cell_type": "code",
   "execution_count": null,
   "id": "a816444f",
   "metadata": {},
   "outputs": [],
   "source": [
    "final_df['year-month'] = pd.DatetimeIndex(final_df['date']).year"
   ]
  },
  {
   "cell_type": "code",
   "execution_count": null,
   "id": "351567b8",
   "metadata": {},
   "outputs": [],
   "source": [
    "rolling = final_df.rolling(30).mean()\n",
    "rolling.dropna(inplace = True)"
   ]
  },
  {
   "cell_type": "code",
   "execution_count": null,
   "id": "b9feef47",
   "metadata": {},
   "outputs": [],
   "source": [
    "rolling"
   ]
  },
  {
   "cell_type": "code",
   "execution_count": null,
   "id": "91ffe39f",
   "metadata": {},
   "outputs": [],
   "source": [
    "ax = rolling.plot(figsize=[20,20],title='Changing social sentiment (Jan 2019 - Aug 2022)')\n",
    "ax.set_xlabel(\"Time\")\n",
    "ax.set_ylabel(\"Emotion Coeff.\")\n",
    "ax.figure.savefig('plot.jpeg')"
   ]
  },
  {
   "cell_type": "code",
   "execution_count": null,
   "id": "90603077",
   "metadata": {},
   "outputs": [],
   "source": []
  }
 ],
 "metadata": {
  "kernelspec": {
   "display_name": "Python 3 (ipykernel)",
   "language": "python",
   "name": "python3"
  },
  "language_info": {
   "codemirror_mode": {
    "name": "ipython",
    "version": 3
   },
   "file_extension": ".py",
   "mimetype": "text/x-python",
   "name": "python",
   "nbconvert_exporter": "python",
   "pygments_lexer": "ipython3",
   "version": "3.9.7"
  }
 },
 "nbformat": 4,
 "nbformat_minor": 5
}
