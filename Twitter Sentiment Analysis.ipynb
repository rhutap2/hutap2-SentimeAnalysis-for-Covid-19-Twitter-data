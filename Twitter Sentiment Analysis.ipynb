{
 "cells": [
  {
   "cell_type": "code",
   "execution_count": 1,
   "id": "fbb7df18",
   "metadata": {},
   "outputs": [],
   "source": [
    "import os\n",
    "import tweepy as tw\n",
    "#import xlsxwriter"
   ]
  },
  {
   "cell_type": "code",
   "execution_count": 206,
   "id": "37bc08ec",
   "metadata": {},
   "outputs": [],
   "source": [
    "consumer_key= 'ConsumerKey'\n",
    "consumer_secret= 'ConsumerSecret'\n",
    "access_token= 'AccessToken'\n",
    "access_token_secret= 'AccessSecretToken'"
   ]
  },
  {
   "cell_type": "code",
   "execution_count": 19,
   "id": "cbb3db38",
   "metadata": {},
   "outputs": [],
   "source": [
    "auth = tw.OAuthHandler(consumer_key, consumer_secret)\n",
    "auth.set_access_token(access_token, access_token_secret)\n",
    "api = tw.API(auth, wait_on_rate_limit=True)"
   ]
  },
  {
   "cell_type": "code",
   "execution_count": 12,
   "id": "838f1b17",
   "metadata": {},
   "outputs": [],
   "source": [
    "# Define the search term and the date_since date as variables\n",
    "search_words = \"COVID-19\"\n",
    "date_since = \"2020-01-01\""
   ]
  },
  {
   "cell_type": "code",
   "execution_count": 20,
   "id": "72931565",
   "metadata": {},
   "outputs": [],
   "source": [
    "# Collect tweets\n",
    "tweets = tw.Cursor(api.search_tweets,\n",
    "              q=search_words,\n",
    "              lang=\"en\",\n",
    "              since=date_since).items(1000)\n",
    "\n",
    "# # # Iterate and print tweets\n",
    "# # for tweet in tweets:\n",
    "# #     print(tweet.text)"
   ]
  },
  {
   "cell_type": "code",
   "execution_count": 14,
   "id": "9c1d5c40",
   "metadata": {},
   "outputs": [
    {
     "name": "stdout",
     "output_type": "stream",
     "text": [
      "Requirement already satisfied: xlsxwriter in c:\\users\\rhuta\\anaconda3\\lib\\site-packages (3.0.1)\n",
      "Note: you may need to restart the kernel to use updated packages.\n"
     ]
    }
   ],
   "source": [
    "pip install xlsxwriter"
   ]
  },
  {
   "cell_type": "code",
   "execution_count": 21,
   "id": "290d862c",
   "metadata": {},
   "outputs": [],
   "source": [
    "import xlsxwriter\n",
    "\n",
    "workbook = xlsxwriter.Workbook('data_tweets.xlsx')\n",
    "worksheet = workbook.add_worksheet()\n"
   ]
  },
  {
   "cell_type": "code",
   "execution_count": 23,
   "id": "a6804f05",
   "metadata": {},
   "outputs": [
    {
     "name": "stderr",
     "output_type": "stream",
     "text": [
      "C:\\Users\\Rhuta\\anaconda3\\lib\\site-packages\\xlsxwriter\\workbook.py:338: UserWarning: Calling close() on already closed file.\n",
      "  warn(\"Calling close() on already closed file.\")\n"
     ]
    }
   ],
   "source": [
    "row=0\n",
    "col=0\n",
    "tweet_list=[]\n",
    "\n",
    "results = tw.Cursor(api.search_tweets,\n",
    "              q=search_words,\n",
    "              lang=\"en\").items(100)\n",
    "# for tweet in results:\n",
    "#   print(tweet)\n",
    "for tweet in results:\n",
    "   tweet_list.append([tweet.user.screen_name, tweet.text])\n",
    "for user, tweet in tweet_list:\n",
    "  global row\n",
    "  global col\n",
    "  worksheet.write(row, col, user)\n",
    "  worksheet.write(row, col + 1, tweet)\n",
    "  row += 1\n",
    "workbook.close()"
   ]
  },
  {
   "cell_type": "code",
   "execution_count": 131,
   "id": "d6259194",
   "metadata": {},
   "outputs": [],
   "source": [
    "# import pandas module \n",
    "import pandas as pd \n",
    "import numpy as np\n",
    "# making dataframe \n",
    "df = pd.ExcelFile(\"data_tweets.xlsx\").parse()"
   ]
  },
  {
   "cell_type": "code",
   "execution_count": 137,
   "id": "3731d1d7",
   "metadata": {},
   "outputs": [],
   "source": [
    "df1 = pd.DataFrame({'0', '1'})\n",
    "df1 = df1.T\n",
    "# df3 = df1.append(df, ignore_index=True)\n",
    "df3 = pd.DataFrame(np.concatenate( (df1.values, df.values), axis=0 ))\n",
    "new_header = df3.iloc[0] #grab the first row for the header\n",
    "df3 = df[1:] #take the data less the header row\n",
    "df3.columns = new_header #set the header row as the df header"
   ]
  },
  {
   "cell_type": "code",
   "execution_count": 139,
   "id": "ef2f5b47",
   "metadata": {},
   "outputs": [
    {
     "name": "stderr",
     "output_type": "stream",
     "text": [
      "C:\\Users\\Rhuta\\anaconda3\\lib\\site-packages\\pandas\\core\\frame.py:5039: SettingWithCopyWarning: \n",
      "A value is trying to be set on a copy of a slice from a DataFrame\n",
      "\n",
      "See the caveats in the documentation: https://pandas.pydata.org/pandas-docs/stable/user_guide/indexing.html#returning-a-view-versus-a-copy\n",
      "  return super().rename(\n"
     ]
    }
   ],
   "source": [
    "df3.rename(columns = {'1':'user', '0':'text'}, inplace = True)"
   ]
  },
  {
   "cell_type": "markdown",
   "id": "c1e24811",
   "metadata": {},
   "source": [
    "## Cleaning data"
   ]
  },
  {
   "cell_type": "code",
   "execution_count": 154,
   "id": "21b1b138",
   "metadata": {},
   "outputs": [
    {
     "name": "stderr",
     "output_type": "stream",
     "text": [
      "C:\\Users\\Rhuta\\AppData\\Local\\Temp/ipykernel_33980/2609527805.py:9: SettingWithCopyWarning: \n",
      "A value is trying to be set on a copy of a slice from a DataFrame.\n",
      "Try using .loc[row_indexer,col_indexer] = value instead\n",
      "\n",
      "See the caveats in the documentation: https://pandas.pydata.org/pandas-docs/stable/user_guide/indexing.html#returning-a-view-versus-a-copy\n",
      "  df3['text'] = df3['text'].apply(cleaning)\n"
     ]
    }
   ],
   "source": [
    "import re\n",
    "def cleaning(x):\n",
    "    x = x.replace('\\n', x)\n",
    "    x = (re.sub('\\s+',' ',x))\n",
    "    x = x.replace('RT ','')\n",
    "    x = ' '.join([ word for word in x.split() if not (word.startswith('@') or word.startswith('https')) ])\n",
    "    return x\n",
    "\n",
    "df3['text'] = df3['text'].apply(cleaning)"
   ]
  },
  {
   "cell_type": "code",
   "execution_count": 155,
   "id": "23df8e98",
   "metadata": {},
   "outputs": [
    {
     "name": "stderr",
     "output_type": "stream",
     "text": [
      "C:\\Users\\Rhuta\\AppData\\Local\\Temp/ipykernel_33980/1559232170.py:16: SettingWithCopyWarning: \n",
      "A value is trying to be set on a copy of a slice from a DataFrame.\n",
      "Try using .loc[row_indexer,col_indexer] = value instead\n",
      "\n",
      "See the caveats in the documentation: https://pandas.pydata.org/pandas-docs/stable/user_guide/indexing.html#returning-a-view-versus-a-copy\n",
      "  df3['text'] = df3['text'].apply(remove_emoji)\n"
     ]
    }
   ],
   "source": [
    "#removing all URL's and emoticons\n",
    "#refernce: https://gist.github.com/slowkow/7a7f61f495e3dbb7e3d767f97bd7304b\n",
    "import re\n",
    "\n",
    "def remove_emoji(string):\n",
    "    emoji_pattern = re.compile(\"[\"\n",
    "                           u\"\\U0001F600-\\U0001F64F\"  # emoticons\n",
    "                           u\"\\U0001F300-\\U0001F5FF\"  # symbols & pictographs\n",
    "                           u\"\\U0001F680-\\U0001F6FF\"  # transport & map symbols\n",
    "                           u\"\\U0001F1E0-\\U0001F1FF\"  # flags (iOS)\n",
    "                           u\"\\U00002702-\\U000027B0\"\n",
    "                           u\"\\U000024C2-\\U0001F251\"\n",
    "                           \"]+\", flags=re.UNICODE)\n",
    "    return emoji_pattern.sub(r'', string)\n",
    "\n",
    "df3['text'] = df3['text'].apply(remove_emoji)"
   ]
  },
  {
   "cell_type": "code",
   "execution_count": 156,
   "id": "e6c0af2c",
   "metadata": {},
   "outputs": [
    {
     "data": {
      "text/plain": [
       "1     Sen. Merkley says his 26 y/o son was in the ho...\n",
       "2     Who calls the shots in Ontario's COVID-19 resp...\n",
       "3     The private sector has been 99.9% back to work...\n",
       "4     North Korea ‘Sending Out SOS’ as It Admits Unn...\n",
       "5     \"Since COVID-19 operates in a highly age speci...\n",
       "                            ...                        \n",
       "94    \"Determinants of COVID-19 Vaccine-Induced Myoc...\n",
       "95    The private sector has been 99.9% back to work...\n",
       "96    this is *amazing* news. Thank you to for leade...\n",
       "97    This time two weeks ago I lost my beautiful 7 ...\n",
       "98    The scholarship deadline for our Deep Dive Int...\n",
       "Name: text, Length: 98, dtype: object"
      ]
     },
     "execution_count": 156,
     "metadata": {},
     "output_type": "execute_result"
    }
   ],
   "source": [
    "df3['text']"
   ]
  },
  {
   "cell_type": "markdown",
   "id": "7c27f4b5",
   "metadata": {},
   "source": [
    "### Sentiment Analysis"
   ]
  },
  {
   "cell_type": "code",
   "execution_count": 157,
   "id": "60d0bf0a",
   "metadata": {},
   "outputs": [
    {
     "name": "stdout",
     "output_type": "stream",
     "text": [
      "Requirement already satisfied: vaderSentiment in c:\\users\\rhuta\\anaconda3\\lib\\site-packages (3.3.2)\n",
      "Requirement already satisfied: requests in c:\\users\\rhuta\\appdata\\roaming\\python\\python39\\site-packages (from vaderSentiment) (2.27.1)\n",
      "Requirement already satisfied: charset-normalizer~=2.0.0 in c:\\users\\rhuta\\anaconda3\\lib\\site-packages (from requests->vaderSentiment) (2.0.4)\n",
      "Requirement already satisfied: idna<4,>=2.5 in c:\\users\\rhuta\\anaconda3\\lib\\site-packages (from requests->vaderSentiment) (3.2)\n",
      "Requirement already satisfied: urllib3<1.27,>=1.21.1 in c:\\users\\rhuta\\anaconda3\\lib\\site-packages (from requests->vaderSentiment) (1.26.7)\n",
      "Requirement already satisfied: certifi>=2017.4.17 in c:\\users\\rhuta\\anaconda3\\lib\\site-packages (from requests->vaderSentiment) (2021.10.8)\n"
     ]
    }
   ],
   "source": [
    "!pip install vaderSentiment\n",
    "from vaderSentiment.vaderSentiment import SentimentIntensityAnalyzer\n",
    "import pandas as pd\n",
    "import numpy as np"
   ]
  },
  {
   "cell_type": "code",
   "execution_count": 207,
   "id": "605bc972",
   "metadata": {},
   "outputs": [
    {
     "name": "stderr",
     "output_type": "stream",
     "text": [
      "C:\\Users\\Rhuta\\AppData\\Local\\Temp/ipykernel_33980/4058693373.py:5: SettingWithCopyWarning: \n",
      "A value is trying to be set on a copy of a slice from a DataFrame.\n",
      "Try using .loc[row_indexer,col_indexer] = value instead\n",
      "\n",
      "See the caveats in the documentation: https://pandas.pydata.org/pandas-docs/stable/user_guide/indexing.html#returning-a-view-versus-a-copy\n",
      "  df3[i] = df3['text'].apply(lambda comment: analyzer.polarity_scores(comment)[i])\n"
     ]
    }
   ],
   "source": [
    "#calculating polarity scores\n",
    "analyzer = SentimentIntensityAnalyzer()\n",
    "\n",
    "for i in ['pos', 'neg', 'neu', 'compound']:\n",
    "    df3[i] = df3['text'].apply(lambda comment: analyzer.polarity_scores(comment)[i])"
   ]
  },
  {
   "cell_type": "code",
   "execution_count": 172,
   "id": "557c6c7d",
   "metadata": {
    "scrolled": true
   },
   "outputs": [
    {
     "name": "stderr",
     "output_type": "stream",
     "text": [
      "C:\\Users\\Rhuta\\AppData\\Local\\Temp/ipykernel_33980/1531232689.py:15: SettingWithCopyWarning: \n",
      "A value is trying to be set on a copy of a slice from a DataFrame.\n",
      "Try using .loc[row_indexer,col_indexer] = value instead\n",
      "\n",
      "See the caveats in the documentation: https://pandas.pydata.org/pandas-docs/stable/user_guide/indexing.html#returning-a-view-versus-a-copy\n",
      "  df3['sentiment_polarity'] = df3['compound'].apply(sentiment)\n"
     ]
    }
   ],
   "source": [
    "import matplotlib.pyplot as plt\n",
    "\n",
    "def sentiment(x):\n",
    "\n",
    "# posSum = 0\n",
    "# negSum = 0\n",
    "# neuSum = 0\n",
    "    if (x >= 0.5):\n",
    "        return \"Positive\"\n",
    "    elif (x <= -0.5):\n",
    "        return \"Negative\"\n",
    "    else:\n",
    "        return \"Neutral\"\n",
    "\n",
    "df3['sentiment_polarity'] = df3['compound'].apply(sentiment)\n",
    "\n",
    "df4 = df3['sentiment_polarity'].value_counts().rename_axis('sentiment_polarity').reset_index(name='counts')\n",
    "\n",
    "#plt.title(\"Sentiment Analysis\")\n"
   ]
  },
  {
   "cell_type": "code",
   "execution_count": 182,
   "id": "45185ba9",
   "metadata": {},
   "outputs": [
    {
     "data": {
      "text/html": [
       "<div>\n",
       "<style scoped>\n",
       "    .dataframe tbody tr th:only-of-type {\n",
       "        vertical-align: middle;\n",
       "    }\n",
       "\n",
       "    .dataframe tbody tr th {\n",
       "        vertical-align: top;\n",
       "    }\n",
       "\n",
       "    .dataframe thead th {\n",
       "        text-align: right;\n",
       "    }\n",
       "</style>\n",
       "<table border=\"1\" class=\"dataframe\">\n",
       "  <thead>\n",
       "    <tr style=\"text-align: right;\">\n",
       "      <th></th>\n",
       "      <th>sentiment_polarity</th>\n",
       "      <th>counts</th>\n",
       "    </tr>\n",
       "  </thead>\n",
       "  <tbody>\n",
       "    <tr>\n",
       "      <th>0</th>\n",
       "      <td>Neutral</td>\n",
       "      <td>66</td>\n",
       "    </tr>\n",
       "    <tr>\n",
       "      <th>1</th>\n",
       "      <td>Negative</td>\n",
       "      <td>19</td>\n",
       "    </tr>\n",
       "    <tr>\n",
       "      <th>2</th>\n",
       "      <td>Positive</td>\n",
       "      <td>13</td>\n",
       "    </tr>\n",
       "  </tbody>\n",
       "</table>\n",
       "</div>"
      ],
      "text/plain": [
       "  sentiment_polarity  counts\n",
       "0            Neutral      66\n",
       "1           Negative      19\n",
       "2           Positive      13"
      ]
     },
     "execution_count": 182,
     "metadata": {},
     "output_type": "execute_result"
    }
   ],
   "source": [
    "df4"
   ]
  },
  {
   "cell_type": "code",
   "execution_count": 185,
   "id": "b34d71e5",
   "metadata": {},
   "outputs": [
    {
     "data": {
      "text/plain": [
       "<AxesSubplot:xlabel='sentiment_polarity'>"
      ]
     },
     "execution_count": 185,
     "metadata": {},
     "output_type": "execute_result"
    },
    {
     "data": {
      "text/plain": [
       "<Figure size 720x360 with 0 Axes>"
      ]
     },
     "metadata": {},
     "output_type": "display_data"
    },
    {
     "data": {
      "image/png": "[encoded data removed]",
      "text/plain": [
       "<Figure size 432x288 with 1 Axes>"
      ]
     },
     "metadata": {
      "needs_background": "light"
     },
     "output_type": "display_data"
    }
   ],
   "source": [
    "fig = plt.figure(figsize = (10, 5))\n",
    " \n",
    "# creating the bar plot\n",
    "df4.plot.bar(x=\"sentiment_polarity\", y=\"counts\", color ='green',\n",
    "        width = 0.4)"
   ]
  },
  {
   "cell_type": "code",
   "execution_count": 187,
   "id": "60aa23e4",
   "metadata": {},
   "outputs": [],
   "source": [
    "from wordcloud import WordCloud\n",
    "line = \" \".join(df3['text'])\n",
    "word_cloud = WordCloud(collocations = False, background_color = 'white').generate(line)"
   ]
  },
  {
   "cell_type": "code",
   "execution_count": 188,
   "id": "b9ce2677",
   "metadata": {},
   "outputs": [
    {
     "data": {
      "image/png": "[encoded data removed]",
      "text/plain": [
       "<Figure size 432x288 with 1 Axes>"
      ]
     },
     "metadata": {
      "needs_background": "light"
     },
     "output_type": "display_data"
    }
   ],
   "source": [
    "plt.imshow(word_cloud, interpolation='bilinear')\n",
    "plt.axis(\"off\")\n",
    "plt.show()"
   ]
  },
  {
   "cell_type": "code",
   "execution_count": 189,
   "id": "a9b021db",
   "metadata": {},
   "outputs": [],
   "source": [
    "dataset = df3.loc[:, ['text', 'sentiment_polarity']]\n",
    "dataset['text']=dataset['text'].str.lower()"
   ]
  },
  {
   "cell_type": "code",
   "execution_count": 190,
   "id": "8842dc9a",
   "metadata": {},
   "outputs": [
    {
     "name": "stderr",
     "output_type": "stream",
     "text": [
      "[nltk_data] Downloading package stopwords to\n",
      "[nltk_data]     C:\\Users\\Rhuta\\AppData\\Roaming\\nltk_data...\n",
      "[nltk_data]   Package stopwords is already up-to-date!\n"
     ]
    },
    {
     "data": {
      "text/html": [
       "<div>\n",
       "<style scoped>\n",
       "    .dataframe tbody tr th:only-of-type {\n",
       "        vertical-align: middle;\n",
       "    }\n",
       "\n",
       "    .dataframe tbody tr th {\n",
       "        vertical-align: top;\n",
       "    }\n",
       "\n",
       "    .dataframe thead th {\n",
       "        text-align: right;\n",
       "    }\n",
       "</style>\n",
       "<table border=\"1\" class=\"dataframe\">\n",
       "  <thead>\n",
       "    <tr style=\"text-align: right;\">\n",
       "      <th></th>\n",
       "      <th>text</th>\n",
       "      <th>sentiment_polarity</th>\n",
       "    </tr>\n",
       "  </thead>\n",
       "  <tbody>\n",
       "    <tr>\n",
       "      <th>1</th>\n",
       "      <td>sen. merkley says 26 y/o son hospital last wee...</td>\n",
       "      <td>Neutral</td>\n",
       "    </tr>\n",
       "    <tr>\n",
       "      <th>2</th>\n",
       "      <td>calls shots ontario's covid-19 response? us fi...</td>\n",
       "      <td>Neutral</td>\n",
       "    </tr>\n",
       "    <tr>\n",
       "      <th>3</th>\n",
       "      <td>private sector 99.9% back work post covid-19 m...</td>\n",
       "      <td>Neutral</td>\n",
       "    </tr>\n",
       "    <tr>\n",
       "      <th>4</th>\n",
       "      <td>north korea ‘sending sos’ admits unnamed disea...</td>\n",
       "      <td>Positive</td>\n",
       "    </tr>\n",
       "    <tr>\n",
       "      <th>5</th>\n",
       "      <td>\"since covid-19 operates highly age specific m...</td>\n",
       "      <td>Neutral</td>\n",
       "    </tr>\n",
       "    <tr>\n",
       "      <th>...</th>\n",
       "      <td>...</td>\n",
       "      <td>...</td>\n",
       "    </tr>\n",
       "    <tr>\n",
       "      <th>94</th>\n",
       "      <td>\"determinants covid-19 vaccine-induced myocard...</td>\n",
       "      <td>Neutral</td>\n",
       "    </tr>\n",
       "    <tr>\n",
       "      <th>95</th>\n",
       "      <td>private sector 99.9% back work post covid-19 m...</td>\n",
       "      <td>Neutral</td>\n",
       "    </tr>\n",
       "    <tr>\n",
       "      <th>96</th>\n",
       "      <td>*amazing* news. thank leadership pledge great ...</td>\n",
       "      <td>Positive</td>\n",
       "    </tr>\n",
       "    <tr>\n",
       "      <th>97</th>\n",
       "      <td>time two weeks ago lost beautiful 7 year old c...</td>\n",
       "      <td>Neutral</td>\n",
       "    </tr>\n",
       "    <tr>\n",
       "      <th>98</th>\n",
       "      <td>scholarship deadline deep dive intensive: desc...</td>\n",
       "      <td>Neutral</td>\n",
       "    </tr>\n",
       "  </tbody>\n",
       "</table>\n",
       "<p>98 rows × 2 columns</p>\n",
       "</div>"
      ],
      "text/plain": [
       "0                                                text sentiment_polarity\n",
       "1   sen. merkley says 26 y/o son hospital last wee...            Neutral\n",
       "2   calls shots ontario's covid-19 response? us fi...            Neutral\n",
       "3   private sector 99.9% back work post covid-19 m...            Neutral\n",
       "4   north korea ‘sending sos’ admits unnamed disea...           Positive\n",
       "5   \"since covid-19 operates highly age specific m...            Neutral\n",
       "..                                                ...                ...\n",
       "94  \"determinants covid-19 vaccine-induced myocard...            Neutral\n",
       "95  private sector 99.9% back work post covid-19 m...            Neutral\n",
       "96  *amazing* news. thank leadership pledge great ...           Positive\n",
       "97  time two weeks ago lost beautiful 7 year old c...            Neutral\n",
       "98  scholarship deadline deep dive intensive: desc...            Neutral\n",
       "\n",
       "[98 rows x 2 columns]"
      ]
     },
     "execution_count": 190,
     "metadata": {},
     "output_type": "execute_result"
    }
   ],
   "source": [
    "import nltk\n",
    "from nltk.corpus import stopwords\n",
    "nltk.download('stopwords')\n",
    "stop_words = set(stopwords.words('english'))\n",
    "\n",
    "def remove_stopwords(text):\n",
    "    text = ' '.join([word for word in text.split() if word not in stop_words])\n",
    "    return text\n",
    "    \n",
    "dataset['text'] = dataset['text'].apply(remove_stopwords)\n",
    "\n",
    "dataset"
   ]
  },
  {
   "cell_type": "code",
   "execution_count": 191,
   "id": "a24d2ba5",
   "metadata": {},
   "outputs": [
    {
     "data": {
      "text/html": [
       "<div>\n",
       "<style scoped>\n",
       "    .dataframe tbody tr th:only-of-type {\n",
       "        vertical-align: middle;\n",
       "    }\n",
       "\n",
       "    .dataframe tbody tr th {\n",
       "        vertical-align: top;\n",
       "    }\n",
       "\n",
       "    .dataframe thead th {\n",
       "        text-align: right;\n",
       "    }\n",
       "</style>\n",
       "<table border=\"1\" class=\"dataframe\">\n",
       "  <thead>\n",
       "    <tr style=\"text-align: right;\">\n",
       "      <th></th>\n",
       "      <th>text</th>\n",
       "      <th>sentiment_polarity</th>\n",
       "      <th>token</th>\n",
       "    </tr>\n",
       "  </thead>\n",
       "  <tbody>\n",
       "    <tr>\n",
       "      <th>1</th>\n",
       "      <td>sen. merkley says 26 y/o son hospital last wee...</td>\n",
       "      <td>Neutral</td>\n",
       "      <td>[sen., merkley, says, y/o, son, hospital, last...</td>\n",
       "    </tr>\n",
       "    <tr>\n",
       "      <th>2</th>\n",
       "      <td>calls shots ontario's covid-19 response? us fi...</td>\n",
       "      <td>Neutral</td>\n",
       "      <td>[calls, shots, ontario, covid-19, response, us...</td>\n",
       "    </tr>\n",
       "    <tr>\n",
       "      <th>3</th>\n",
       "      <td>private sector 99.9% back work post covid-19 m...</td>\n",
       "      <td>Neutral</td>\n",
       "      <td>[private, sector, back, work, post, covid-19, ...</td>\n",
       "    </tr>\n",
       "    <tr>\n",
       "      <th>4</th>\n",
       "      <td>north korea ‘sending sos’ admits unnamed disea...</td>\n",
       "      <td>Positive</td>\n",
       "      <td>[north, korea, sending, sos, admits, unnamed, ...</td>\n",
       "    </tr>\n",
       "    <tr>\n",
       "      <th>5</th>\n",
       "      <td>\"since covid-19 operates highly age specific m...</td>\n",
       "      <td>Neutral</td>\n",
       "      <td>[since, covid-19, operates, highly, age, speci...</td>\n",
       "    </tr>\n",
       "    <tr>\n",
       "      <th>...</th>\n",
       "      <td>...</td>\n",
       "      <td>...</td>\n",
       "      <td>...</td>\n",
       "    </tr>\n",
       "    <tr>\n",
       "      <th>94</th>\n",
       "      <td>\"determinants covid-19 vaccine-induced myocard...</td>\n",
       "      <td>Neutral</td>\n",
       "      <td>[determinants, covid-19, vaccine-induced, myoc...</td>\n",
       "    </tr>\n",
       "    <tr>\n",
       "      <th>95</th>\n",
       "      <td>private sector 99.9% back work post covid-19 m...</td>\n",
       "      <td>Neutral</td>\n",
       "      <td>[private, sector, back, work, post, covid-19, ...</td>\n",
       "    </tr>\n",
       "    <tr>\n",
       "      <th>96</th>\n",
       "      <td>*amazing* news. thank leadership pledge great ...</td>\n",
       "      <td>Positive</td>\n",
       "      <td>[amazing, news, thank, leadership, pledge, gre...</td>\n",
       "    </tr>\n",
       "    <tr>\n",
       "      <th>97</th>\n",
       "      <td>time two weeks ago lost beautiful 7 year old c...</td>\n",
       "      <td>Neutral</td>\n",
       "      <td>[time, two, weeks, ago, lost, beautiful, year,...</td>\n",
       "    </tr>\n",
       "    <tr>\n",
       "      <th>98</th>\n",
       "      <td>scholarship deadline deep dive intensive: desc...</td>\n",
       "      <td>Neutral</td>\n",
       "      <td>[scholarship, deadline, deep, dive, intensive,...</td>\n",
       "    </tr>\n",
       "  </tbody>\n",
       "</table>\n",
       "<p>98 rows × 3 columns</p>\n",
       "</div>"
      ],
      "text/plain": [
       "0                                                text sentiment_polarity  \\\n",
       "1   sen. merkley says 26 y/o son hospital last wee...            Neutral   \n",
       "2   calls shots ontario's covid-19 response? us fi...            Neutral   \n",
       "3   private sector 99.9% back work post covid-19 m...            Neutral   \n",
       "4   north korea ‘sending sos’ admits unnamed disea...           Positive   \n",
       "5   \"since covid-19 operates highly age specific m...            Neutral   \n",
       "..                                                ...                ...   \n",
       "94  \"determinants covid-19 vaccine-induced myocard...            Neutral   \n",
       "95  private sector 99.9% back work post covid-19 m...            Neutral   \n",
       "96  *amazing* news. thank leadership pledge great ...           Positive   \n",
       "97  time two weeks ago lost beautiful 7 year old c...            Neutral   \n",
       "98  scholarship deadline deep dive intensive: desc...            Neutral   \n",
       "\n",
       "0                                               token  \n",
       "1   [sen., merkley, says, y/o, son, hospital, last...  \n",
       "2   [calls, shots, ontario, covid-19, response, us...  \n",
       "3   [private, sector, back, work, post, covid-19, ...  \n",
       "4   [north, korea, sending, sos, admits, unnamed, ...  \n",
       "5   [since, covid-19, operates, highly, age, speci...  \n",
       "..                                                ...  \n",
       "94  [determinants, covid-19, vaccine-induced, myoc...  \n",
       "95  [private, sector, back, work, post, covid-19, ...  \n",
       "96  [amazing, news, thank, leadership, pledge, gre...  \n",
       "97  [time, two, weeks, ago, lost, beautiful, year,...  \n",
       "98  [scholarship, deadline, deep, dive, intensive,...  \n",
       "\n",
       "[98 rows x 3 columns]"
      ]
     },
     "execution_count": 191,
     "metadata": {},
     "output_type": "execute_result"
    }
   ],
   "source": [
    "def word_tokens(text):\n",
    "    tokens = nltk.word_tokenize(text)\n",
    "    cleanedTokens = [word for word in tokens if word[0].isalpha()]\n",
    "    return cleanedTokens\n",
    "\n",
    "dataset['token'] = dataset['text'].apply(word_tokens)\n",
    "dataset"
   ]
  },
  {
   "cell_type": "code",
   "execution_count": 192,
   "id": "bad23b12",
   "metadata": {},
   "outputs": [],
   "source": [
    "x = dataset.text\n",
    "y = dataset.sentiment_polarity"
   ]
  },
  {
   "cell_type": "code",
   "execution_count": 197,
   "id": "2fe9c224",
   "metadata": {},
   "outputs": [],
   "source": [
    "#train, test split\n",
    "from sklearn.model_selection import train_test_split\n",
    "\n",
    "X_train, X_test, Y_train, Y_test = train_test_split(x,y,test_size = 0.2, random_state =26105111)"
   ]
  },
  {
   "cell_type": "code",
   "execution_count": 198,
   "id": "b1cbda86",
   "metadata": {},
   "outputs": [
    {
     "name": "stdout",
     "output_type": "stream",
     "text": [
      "No. of feature_words:  1261\n"
     ]
    }
   ],
   "source": [
    "#TF-IDF vectorizer\n",
    "from sklearn.feature_extraction.text import TfidfVectorizer,CountVectorizer, TfidfTransformer\n",
    "\n",
    "vectoriser = TfidfVectorizer(ngram_range=(1,2), max_features=50000)\n",
    "vectoriser.fit(X_train)\n",
    "print('No. of feature_words: ', len(vectoriser.get_feature_names()))"
   ]
  },
  {
   "cell_type": "code",
   "execution_count": 199,
   "id": "8cc52869",
   "metadata": {},
   "outputs": [],
   "source": [
    "X_train = vectoriser.transform(X_train)\n",
    "X_test  = vectoriser.transform(X_test)"
   ]
  },
  {
   "cell_type": "markdown",
   "id": "13edca0b",
   "metadata": {},
   "source": [
    "## Naive Bayes classification"
   ]
  },
  {
   "cell_type": "code",
   "execution_count": 200,
   "id": "316fc66c",
   "metadata": {},
   "outputs": [
    {
     "data": {
      "text/plain": [
       "array(['Neutral', 'Neutral', 'Neutral', 'Neutral', 'Neutral', 'Neutral',\n",
       "       'Neutral', 'Neutral', 'Neutral', 'Neutral', 'Neutral', 'Neutral',\n",
       "       'Neutral', 'Neutral', 'Neutral', 'Neutral', 'Neutral', 'Neutral',\n",
       "       'Neutral', 'Neutral'], dtype='<U8')"
      ]
     },
     "execution_count": 200,
     "metadata": {},
     "output_type": "execute_result"
    }
   ],
   "source": [
    "from sklearn.naive_bayes import MultinomialNB\n",
    "classifier = MultinomialNB()\n",
    "classifier.fit(X_train, Y_train)\n",
    "\n",
    "# predict\n",
    "classifier.predict(X_test)"
   ]
  },
  {
   "cell_type": "code",
   "execution_count": 201,
   "id": "53698870",
   "metadata": {},
   "outputs": [
    {
     "data": {
      "text/plain": [
       "0.65"
      ]
     },
     "execution_count": 201,
     "metadata": {},
     "output_type": "execute_result"
    }
   ],
   "source": [
    "classifier.score(X_test, Y_test)"
   ]
  },
  {
   "cell_type": "markdown",
   "id": "8829e0b2",
   "metadata": {},
   "source": [
    "## SVM"
   ]
  },
  {
   "cell_type": "code",
   "execution_count": 202,
   "id": "a1fce66f",
   "metadata": {},
   "outputs": [
    {
     "data": {
      "text/plain": [
       "array(['Neutral', 'Neutral', 'Neutral', 'Neutral', 'Neutral', 'Neutral',\n",
       "       'Neutral', 'Neutral', 'Neutral', 'Neutral', 'Neutral', 'Neutral',\n",
       "       'Neutral', 'Neutral', 'Neutral', 'Negative', 'Neutral', 'Neutral',\n",
       "       'Neutral', 'Neutral'], dtype='<U8')"
      ]
     },
     "execution_count": 202,
     "metadata": {},
     "output_type": "execute_result"
    }
   ],
   "source": [
    "from sklearn import linear_model\n",
    "classifier_svm= linear_model.SGDClassifier(warm_start=True)\n",
    "\n",
    "fit_svm=classifier_svm.fit(X_train, Y_train)\n",
    "\n",
    "classifier_svm.predict(X_test)"
   ]
  },
  {
   "cell_type": "code",
   "execution_count": 203,
   "id": "24e01405",
   "metadata": {},
   "outputs": [
    {
     "data": {
      "text/plain": [
       "0.7"
      ]
     },
     "execution_count": 203,
     "metadata": {},
     "output_type": "execute_result"
    }
   ],
   "source": [
    "classifier_svm.score(X_test, Y_test)"
   ]
  },
  {
   "cell_type": "code",
   "execution_count": 204,
   "id": "026bdf09",
   "metadata": {},
   "outputs": [],
   "source": [
    "for i in dataset['sentiment_polarity']:\n",
    "    if (i == \"Neutral\"):\n",
    "        dataset['polaity_cluster'] = 0\n",
    "    elif (i == \"Positive\"):\n",
    "        dataset['polarity_cluster'] = 1\n",
    "    elif (i == \"Negative\"):\n",
    "        dataset['polaity_cluster'] = -1\n",
    "        "
   ]
  },
  {
   "cell_type": "code",
   "execution_count": 205,
   "id": "74d5e780",
   "metadata": {},
   "outputs": [
    {
     "data": {
      "text/html": [
       "<div>\n",
       "<style scoped>\n",
       "    .dataframe tbody tr th:only-of-type {\n",
       "        vertical-align: middle;\n",
       "    }\n",
       "\n",
       "    .dataframe tbody tr th {\n",
       "        vertical-align: top;\n",
       "    }\n",
       "\n",
       "    .dataframe thead th {\n",
       "        text-align: right;\n",
       "    }\n",
       "</style>\n",
       "<table border=\"1\" class=\"dataframe\">\n",
       "  <thead>\n",
       "    <tr style=\"text-align: right;\">\n",
       "      <th></th>\n",
       "      <th>text</th>\n",
       "      <th>sentiment_polarity</th>\n",
       "      <th>token</th>\n",
       "      <th>polaity_cluster</th>\n",
       "      <th>polarity_cluster</th>\n",
       "    </tr>\n",
       "  </thead>\n",
       "  <tbody>\n",
       "    <tr>\n",
       "      <th>1</th>\n",
       "      <td>sen. merkley says 26 y/o son hospital last wee...</td>\n",
       "      <td>Neutral</td>\n",
       "      <td>[sen., merkley, says, y/o, son, hospital, last...</td>\n",
       "      <td>0</td>\n",
       "      <td>1</td>\n",
       "    </tr>\n",
       "    <tr>\n",
       "      <th>2</th>\n",
       "      <td>calls shots ontario's covid-19 response? us fi...</td>\n",
       "      <td>Neutral</td>\n",
       "      <td>[calls, shots, ontario, covid-19, response, us...</td>\n",
       "      <td>0</td>\n",
       "      <td>1</td>\n",
       "    </tr>\n",
       "    <tr>\n",
       "      <th>3</th>\n",
       "      <td>private sector 99.9% back work post covid-19 m...</td>\n",
       "      <td>Neutral</td>\n",
       "      <td>[private, sector, back, work, post, covid-19, ...</td>\n",
       "      <td>0</td>\n",
       "      <td>1</td>\n",
       "    </tr>\n",
       "    <tr>\n",
       "      <th>4</th>\n",
       "      <td>north korea ‘sending sos’ admits unnamed disea...</td>\n",
       "      <td>Positive</td>\n",
       "      <td>[north, korea, sending, sos, admits, unnamed, ...</td>\n",
       "      <td>0</td>\n",
       "      <td>1</td>\n",
       "    </tr>\n",
       "    <tr>\n",
       "      <th>5</th>\n",
       "      <td>\"since covid-19 operates highly age specific m...</td>\n",
       "      <td>Neutral</td>\n",
       "      <td>[since, covid-19, operates, highly, age, speci...</td>\n",
       "      <td>0</td>\n",
       "      <td>1</td>\n",
       "    </tr>\n",
       "    <tr>\n",
       "      <th>...</th>\n",
       "      <td>...</td>\n",
       "      <td>...</td>\n",
       "      <td>...</td>\n",
       "      <td>...</td>\n",
       "      <td>...</td>\n",
       "    </tr>\n",
       "    <tr>\n",
       "      <th>94</th>\n",
       "      <td>\"determinants covid-19 vaccine-induced myocard...</td>\n",
       "      <td>Neutral</td>\n",
       "      <td>[determinants, covid-19, vaccine-induced, myoc...</td>\n",
       "      <td>0</td>\n",
       "      <td>1</td>\n",
       "    </tr>\n",
       "    <tr>\n",
       "      <th>95</th>\n",
       "      <td>private sector 99.9% back work post covid-19 m...</td>\n",
       "      <td>Neutral</td>\n",
       "      <td>[private, sector, back, work, post, covid-19, ...</td>\n",
       "      <td>0</td>\n",
       "      <td>1</td>\n",
       "    </tr>\n",
       "    <tr>\n",
       "      <th>96</th>\n",
       "      <td>*amazing* news. thank leadership pledge great ...</td>\n",
       "      <td>Positive</td>\n",
       "      <td>[amazing, news, thank, leadership, pledge, gre...</td>\n",
       "      <td>0</td>\n",
       "      <td>1</td>\n",
       "    </tr>\n",
       "    <tr>\n",
       "      <th>97</th>\n",
       "      <td>time two weeks ago lost beautiful 7 year old c...</td>\n",
       "      <td>Neutral</td>\n",
       "      <td>[time, two, weeks, ago, lost, beautiful, year,...</td>\n",
       "      <td>0</td>\n",
       "      <td>1</td>\n",
       "    </tr>\n",
       "    <tr>\n",
       "      <th>98</th>\n",
       "      <td>scholarship deadline deep dive intensive: desc...</td>\n",
       "      <td>Neutral</td>\n",
       "      <td>[scholarship, deadline, deep, dive, intensive,...</td>\n",
       "      <td>0</td>\n",
       "      <td>1</td>\n",
       "    </tr>\n",
       "  </tbody>\n",
       "</table>\n",
       "<p>98 rows × 5 columns</p>\n",
       "</div>"
      ],
      "text/plain": [
       "0                                                text sentiment_polarity  \\\n",
       "1   sen. merkley says 26 y/o son hospital last wee...            Neutral   \n",
       "2   calls shots ontario's covid-19 response? us fi...            Neutral   \n",
       "3   private sector 99.9% back work post covid-19 m...            Neutral   \n",
       "4   north korea ‘sending sos’ admits unnamed disea...           Positive   \n",
       "5   \"since covid-19 operates highly age specific m...            Neutral   \n",
       "..                                                ...                ...   \n",
       "94  \"determinants covid-19 vaccine-induced myocard...            Neutral   \n",
       "95  private sector 99.9% back work post covid-19 m...            Neutral   \n",
       "96  *amazing* news. thank leadership pledge great ...           Positive   \n",
       "97  time two weeks ago lost beautiful 7 year old c...            Neutral   \n",
       "98  scholarship deadline deep dive intensive: desc...            Neutral   \n",
       "\n",
       "0                                               token  polaity_cluster  \\\n",
       "1   [sen., merkley, says, y/o, son, hospital, last...                0   \n",
       "2   [calls, shots, ontario, covid-19, response, us...                0   \n",
       "3   [private, sector, back, work, post, covid-19, ...                0   \n",
       "4   [north, korea, sending, sos, admits, unnamed, ...                0   \n",
       "5   [since, covid-19, operates, highly, age, speci...                0   \n",
       "..                                                ...              ...   \n",
       "94  [determinants, covid-19, vaccine-induced, myoc...                0   \n",
       "95  [private, sector, back, work, post, covid-19, ...                0   \n",
       "96  [amazing, news, thank, leadership, pledge, gre...                0   \n",
       "97  [time, two, weeks, ago, lost, beautiful, year,...                0   \n",
       "98  [scholarship, deadline, deep, dive, intensive,...                0   \n",
       "\n",
       "0   polarity_cluster  \n",
       "1                  1  \n",
       "2                  1  \n",
       "3                  1  \n",
       "4                  1  \n",
       "5                  1  \n",
       "..               ...  \n",
       "94                 1  \n",
       "95                 1  \n",
       "96                 1  \n",
       "97                 1  \n",
       "98                 1  \n",
       "\n",
       "[98 rows x 5 columns]"
      ]
     },
     "execution_count": 205,
     "metadata": {},
     "output_type": "execute_result"
    }
   ],
   "source": [
    "dataset"
   ]
  }
 ],
 "metadata": {
  "kernelspec": {
   "display_name": "Python 3 (ipykernel)",
   "language": "python",
   "name": "python3"
  },
  "language_info": {
   "codemirror_mode": {
    "name": "ipython",
    "version": 3
   },
   "file_extension": ".py",
   "mimetype": "text/x-python",
   "name": "python",
   "nbconvert_exporter": "python",
   "pygments_lexer": "ipython3",
   "version": "3.9.7"
  }
 },
 "nbformat": 4,
 "nbformat_minor": 5
}
