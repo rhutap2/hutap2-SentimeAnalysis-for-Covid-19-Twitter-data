{
 "cells": [
  {
   "cell_type": "code",
   "execution_count": 5,
   "id": "8c947b28",
   "metadata": {},
   "outputs": [
    {
     "name": "stdout",
     "output_type": "stream",
     "text": [
      "Requirement already satisfied: transformers in c:\\users\\rhuta\\anaconda3\\lib\\site-packages (4.23.1)\n",
      "Requirement already satisfied: regex!=2019.12.17 in c:\\users\\rhuta\\anaconda3\\lib\\site-packages (from transformers) (2021.8.3)\n",
      "Requirement already satisfied: requests in c:\\users\\rhuta\\anaconda3\\lib\\site-packages (from transformers) (2.25.1)\n",
      "Requirement already satisfied: filelock in c:\\users\\rhuta\\anaconda3\\lib\\site-packages (from transformers) (3.0.12)\n",
      "Requirement already satisfied: tokenizers!=0.11.3,<0.14,>=0.11.1 in c:\\users\\rhuta\\anaconda3\\lib\\site-packages (from transformers) (0.13.1)\n",
      "Requirement already satisfied: tqdm>=4.27 in c:\\users\\rhuta\\anaconda3\\lib\\site-packages (from transformers) (4.56.0)\n",
      "Requirement already satisfied: huggingface-hub<1.0,>=0.10.0 in c:\\users\\rhuta\\anaconda3\\lib\\site-packages (from transformers) (0.10.1)\n",
      "Requirement already satisfied: packaging>=20.0 in c:\\users\\rhuta\\anaconda3\\lib\\site-packages (from transformers) (21.0)\n",
      "Requirement already satisfied: pyyaml>=5.1 in c:\\users\\rhuta\\anaconda3\\lib\\site-packages (from transformers) (5.4.1)\n",
      "Requirement already satisfied: numpy>=1.17 in c:\\users\\rhuta\\anaconda3\\lib\\site-packages (from transformers) (1.20.1)\n",
      "Requirement already satisfied: typing-extensions>=3.7.4.3 in c:\\users\\rhuta\\anaconda3\\lib\\site-packages (from huggingface-hub<1.0,>=0.10.0->transformers) (3.7.4.3)\n",
      "Requirement already satisfied: pyparsing>=2.0.2 in c:\\users\\rhuta\\anaconda3\\lib\\site-packages (from packaging>=20.0->transformers) (3.0.4)\n",
      "Requirement already satisfied: idna<3,>=2.5 in c:\\users\\rhuta\\anaconda3\\lib\\site-packages (from requests->transformers) (2.10)\n",
      "Requirement already satisfied: chardet<5,>=3.0.2 in c:\\users\\rhuta\\anaconda3\\lib\\site-packages (from requests->transformers) (4.0.0)\n",
      "Requirement already satisfied: certifi>=2017.4.17 in c:\\users\\rhuta\\anaconda3\\lib\\site-packages (from requests->transformers) (2020.12.5)\n",
      "Requirement already satisfied: urllib3<1.27,>=1.21.1 in c:\\users\\rhuta\\anaconda3\\lib\\site-packages (from requests->transformers) (1.26.4)\n"
     ]
    },
    {
     "name": "stderr",
     "output_type": "stream",
     "text": [
      "\n",
      "[notice] A new release of pip available: 22.2.2 -> 22.3.1\n",
      "[notice] To update, run: python.exe -m pip install --upgrade pip\n"
     ]
    }
   ],
   "source": [
    "!pip install transformers"
   ]
  },
  {
   "cell_type": "code",
   "execution_count": 6,
   "id": "20d05e80",
   "metadata": {},
   "outputs": [],
   "source": [
    "import pandas as pd"
   ]
  },
  {
   "cell_type": "code",
   "execution_count": 7,
   "id": "0231061d",
   "metadata": {},
   "outputs": [
    {
     "name": "stdout",
     "output_type": "stream",
     "text": [
      "Requirement already satisfied: torch in c:\\users\\rhuta\\anaconda3\\lib\\site-packages (1.12.1)\n",
      "Requirement already satisfied: typing-extensions in c:\\users\\rhuta\\anaconda3\\lib\\site-packages (from torch) (3.7.4.3)\n"
     ]
    },
    {
     "name": "stderr",
     "output_type": "stream",
     "text": [
      "\n",
      "[notice] A new release of pip available: 22.2.2 -> 22.3.1\n",
      "[notice] To update, run: python.exe -m pip install --upgrade pip\n"
     ]
    }
   ],
   "source": [
    "! pip install torch"
   ]
  },
  {
   "cell_type": "code",
   "execution_count": 1,
   "id": "cd4cc363",
   "metadata": {},
   "outputs": [],
   "source": [
    "import glob\n",
    "import os\n",
    "\n",
    "path = r\"*Enter the path where you created the 'data' folder*\" # use your path\n",
    "\n",
    "all_files = sorted(glob.glob(os.path.join(path, \"*.csv\")))"
   ]
  },
  {
   "cell_type": "code",
   "execution_count": 2,
   "id": "d186bebc",
   "metadata": {},
   "outputs": [
    {
     "name": "stderr",
     "output_type": "stream",
     "text": [
      "C:\\Users\\Rhuta\\anaconda3\\lib\\site-packages\\transformers\\pipelines\\text_classification.py:89: UserWarning: `return_all_scores` is now deprecated,  if want a similar funcionality use `top_k=None` instead of `return_all_scores=True` or `top_k=1` instead of `return_all_scores=False`.\n",
      "  warnings.warn(\n"
     ]
    }
   ],
   "source": [
    "from transformers import pipeline\n",
    "classifier = pipeline(\"text-classification\", model=\"j-hartmann/emotion-english-distilroberta-base\", return_all_scores=True)"
   ]
  },
  {
   "cell_type": "code",
   "execution_count": 3,
   "id": "d557d28f",
   "metadata": {},
   "outputs": [],
   "source": [
    "def cal_score(x):\n",
    "    lst = classifier(x)[0]\n",
    "    anger = lst[0][\"score\"]\n",
    "    disgust = lst[1][\"score\"]\n",
    "    fear = lst[2][\"score\"]\n",
    "    joy = lst[3][\"score\"]\n",
    "    neutral = lst[4][\"score\"]\n",
    "    sadness = lst[5][\"score\"]\n",
    "    surprise = lst[6][\"score\"]\n",
    "    return anger, disgust, fear, joy, neutral, sadness, surprise"
   ]
  },
  {
   "cell_type": "code",
   "execution_count": 9,
   "id": "f0e84d6a",
   "metadata": {},
   "outputs": [],
   "source": [
    "#Creating folder Sentiment_Output_Files\n",
    "try:\n",
    "   os.makedirs(\"Sentiment_Output_Files\")\n",
    "except FileExistsError:\n",
    "   # directory already exists\n",
    "   pass"
   ]
  },
  {
   "cell_type": "code",
   "execution_count": 11,
   "id": "cdb307e4",
   "metadata": {},
   "outputs": [],
   "source": [
    "for i,F in enumerate(all_files):\n",
    "    if i%50 == 0:\n",
    "        print(i)\n",
    "    dataframe = pd.read_csv(F)\n",
    "    head, tail = os.path.split(F)\n",
    "    dataframe['anger'],dataframe['disgust'],dataframe['fear'],dataframe['joy'],dataframe['neutral'],dataframe['sadness'],dataframe['surprise'] = zip(*dataframe['tweet'].map(cal_score))\n",
    "    new_file = \"Sentiment_Output_Files/{}\".format(tail)\n",
    "    dataframe.to_csv(new_file)"
   ]
  },
  {
   "cell_type": "code",
   "execution_count": null,
   "id": "0aa7b338",
   "metadata": {},
   "outputs": [],
   "source": []
  }
 ],
 "metadata": {
  "kernelspec": {
   "display_name": "Python 3 (ipykernel)",
   "language": "python",
   "name": "python3"
  },
  "language_info": {
   "codemirror_mode": {
    "name": "ipython",
    "version": 3
   },
   "file_extension": ".py",
   "mimetype": "text/x-python",
   "name": "python",
   "nbconvert_exporter": "python",
   "pygments_lexer": "ipython3",
   "version": "3.9.7"
  }
 },
 "nbformat": 4,
 "nbformat_minor": 5
}
